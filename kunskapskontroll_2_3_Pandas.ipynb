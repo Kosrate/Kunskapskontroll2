{
 "cells": [
  {
   "cell_type": "markdown",
   "id": "b540290b",
   "metadata": {},
   "source": [
    "# Pandas\n",
    "Read \"10 minutes to Pandas\": https://pandas.pydata.org/docs/user_guide/10min.html before solving the exercises.\n",
    "We will use the data set \"cars_data\" in the exercises below. "
   ]
  },
  {
   "cell_type": "code",
   "execution_count": 29,
   "id": "fa266ee4",
   "metadata": {},
   "outputs": [],
   "source": [
    "# Importing Pandas. \n",
    "import pandas as pd"
   ]
  },
  {
   "cell_type": "markdown",
   "id": "addb587b",
   "metadata": {},
   "source": [
    "### Explain what a CSV file is."
   ]
  },
  {
   "cell_type": "code",
   "execution_count": 30,
   "id": "543929a7",
   "metadata": {},
   "outputs": [],
   "source": [
    "# En CSV-fil är ett enkelt och mångsidigt format för att lagra tabulära data i vanlig text, \n",
    "# separerade med kommatecken. \n",
    "# Det är lätt att använda, brett stödd och idealiskt för platta datastrukturer, \n",
    "# men har begränsningar när det gäller att hantera mer komplexa eller hierarkiska data."
   ]
  },
  {
   "cell_type": "markdown",
   "id": "5c61e5d9",
   "metadata": {},
   "source": [
    "### Load the data set \"cars_data\" through Pandas. "
   ]
  },
  {
   "cell_type": "code",
   "execution_count": 31,
   "id": "91923010",
   "metadata": {},
   "outputs": [],
   "source": [
    "# When reading in the data, either you have the data file in the same folder as your python script\n",
    "# or in a seperate folder.\n",
    "\n",
    "# Code below can be ran if you have the data file in the same folder as the script\n",
    "# cars = pd.read_csv(\"cars_data.csv\")\n",
    "\n",
    "# Code below can be ran if you have the data file in another script. \n",
    "# Notice, you must change the path according to where you have the data in your computer. \n",
    "# pd.read_csv(r'C:\\Users\\Antonio Prgomet\\Documents\\03_nbi_yh\\korta_yh_kurser\\python_för_ai\\kunskapskontroll_1\\cars_data.csv')\n",
    "\n",
    "import pandas as pd\n",
    "cars = pd.read_csv(\"cars_data.csv\")"
   ]
  },
  {
   "cell_type": "markdown",
   "id": "b9ac1d06",
   "metadata": {},
   "source": [
    "### Print the first 10 rows of the data. "
   ]
  },
  {
   "cell_type": "code",
   "execution_count": 32,
   "id": "2886ff8e",
   "metadata": {},
   "outputs": [
    {
     "name": "stdout",
     "output_type": "stream",
     "text": [
      "   index      company   body-style  wheel-base  length engine-type  \\\n",
      "0      0  alfa-romero  convertible        88.6   168.8        dohc   \n",
      "1      1  alfa-romero  convertible        88.6   168.8        dohc   \n",
      "2      2  alfa-romero    hatchback        94.5   171.2        ohcv   \n",
      "3      3         audi        sedan        99.8   176.6         ohc   \n",
      "4      4         audi        sedan        99.4   176.6         ohc   \n",
      "5      5         audi        sedan        99.8   177.3         ohc   \n",
      "6      6         audi        wagon       105.8   192.7         ohc   \n",
      "7      9          bmw        sedan       101.2   176.8         ohc   \n",
      "8     10          bmw        sedan       101.2   176.8         ohc   \n",
      "9     11          bmw        sedan       101.2   176.8         ohc   \n",
      "\n",
      "  num-of-cylinders  horsepower  average-mileage    price  \n",
      "0             four         111               21  13495.0  \n",
      "1             four         111               21  16500.0  \n",
      "2              six         154               19  16500.0  \n",
      "3             four         102               24  13950.0  \n",
      "4             five         115               18  17450.0  \n",
      "5             five         110               19  15250.0  \n",
      "6             five         110               19  18920.0  \n",
      "7             four         101               23  16430.0  \n",
      "8             four         101               23  16925.0  \n",
      "9              six         121               21  20970.0  \n"
     ]
    }
   ],
   "source": [
    "import pandas as pd\n",
    "\n",
    "# Reading in the data\n",
    "cars = pd.read_csv(\"cars_data.csv\")\n",
    "\n",
    "# Print the first 10 rows of the data\n",
    "print(cars.head(10))"
   ]
  },
  {
   "cell_type": "markdown",
   "id": "ec02774b",
   "metadata": {},
   "source": [
    "### Print the last 5 rows. "
   ]
  },
  {
   "cell_type": "code",
   "execution_count": 33,
   "id": "437d158f",
   "metadata": {},
   "outputs": [
    {
     "name": "stdout",
     "output_type": "stream",
     "text": [
      "    index     company body-style  wheel-base  length engine-type  \\\n",
      "56     81  volkswagen      sedan        97.3   171.7         ohc   \n",
      "57     82  volkswagen      sedan        97.3   171.7         ohc   \n",
      "58     86  volkswagen      sedan        97.3   171.7         ohc   \n",
      "59     87       volvo      sedan       104.3   188.8         ohc   \n",
      "60     88       volvo      wagon       104.3   188.8         ohc   \n",
      "\n",
      "   num-of-cylinders  horsepower  average-mileage    price  \n",
      "56             four          85               27   7975.0  \n",
      "57             four          52               37   7995.0  \n",
      "58             four         100               26   9995.0  \n",
      "59             four         114               23  12940.0  \n",
      "60             four         114               23  13415.0  \n"
     ]
    }
   ],
   "source": [
    "import pandas as pd\n",
    "\n",
    "# Reading in the data\n",
    "cars = pd.read_csv(\"cars_data.csv\")\n",
    "\n",
    "# Print the last 5 rows of the data\n",
    "print(cars.tail(5))"
   ]
  },
  {
   "cell_type": "markdown",
   "id": "e0cd9329",
   "metadata": {},
   "source": [
    "### By using the info method, check how many non-null rows each column have. "
   ]
  },
  {
   "cell_type": "code",
   "execution_count": 34,
   "id": "efe71f5f",
   "metadata": {},
   "outputs": [
    {
     "name": "stdout",
     "output_type": "stream",
     "text": [
      "<class 'pandas.core.frame.DataFrame'>\n",
      "RangeIndex: 61 entries, 0 to 60\n",
      "Data columns (total 10 columns):\n",
      " #   Column            Non-Null Count  Dtype  \n",
      "---  ------            --------------  -----  \n",
      " 0   index             61 non-null     int64  \n",
      " 1   company           61 non-null     object \n",
      " 2   body-style        61 non-null     object \n",
      " 3   wheel-base        61 non-null     float64\n",
      " 4   length            61 non-null     float64\n",
      " 5   engine-type       61 non-null     object \n",
      " 6   num-of-cylinders  61 non-null     object \n",
      " 7   horsepower        61 non-null     int64  \n",
      " 8   average-mileage   61 non-null     int64  \n",
      " 9   price             58 non-null     float64\n",
      "dtypes: float64(3), int64(3), object(4)\n",
      "memory usage: 4.9+ KB\n",
      "None\n"
     ]
    }
   ],
   "source": [
    "import pandas as pd\n",
    "\n",
    "# Reading in the data\n",
    "cars = pd.read_csv(\"cars_data.csv\")\n",
    "\n",
    "# How many non-null values are in each column?\n",
    "print(cars.info())"
   ]
  },
  {
   "cell_type": "markdown",
   "id": "887f8c9c",
   "metadata": {},
   "source": [
    "### If any column has a missing value, drop the entire row. Notice, the operation should be inplace meaning you change the dataframe itself."
   ]
  },
  {
   "cell_type": "code",
   "execution_count": 35,
   "id": "60b660dc",
   "metadata": {},
   "outputs": [
    {
     "name": "stdout",
     "output_type": "stream",
     "text": [
      "<class 'pandas.core.frame.DataFrame'>\n",
      "Index: 58 entries, 0 to 60\n",
      "Data columns (total 10 columns):\n",
      " #   Column            Non-Null Count  Dtype  \n",
      "---  ------            --------------  -----  \n",
      " 0   index             58 non-null     int64  \n",
      " 1   company           58 non-null     object \n",
      " 2   body-style        58 non-null     object \n",
      " 3   wheel-base        58 non-null     float64\n",
      " 4   length            58 non-null     float64\n",
      " 5   engine-type       58 non-null     object \n",
      " 6   num-of-cylinders  58 non-null     object \n",
      " 7   horsepower        58 non-null     int64  \n",
      " 8   average-mileage   58 non-null     int64  \n",
      " 9   price             58 non-null     float64\n",
      "dtypes: float64(3), int64(3), object(4)\n",
      "memory usage: 5.0+ KB\n",
      "None\n",
      "   index      company   body-style  wheel-base  length engine-type  \\\n",
      "0      0  alfa-romero  convertible        88.6   168.8        dohc   \n",
      "1      1  alfa-romero  convertible        88.6   168.8        dohc   \n",
      "2      2  alfa-romero    hatchback        94.5   171.2        ohcv   \n",
      "3      3         audi        sedan        99.8   176.6         ohc   \n",
      "4      4         audi        sedan        99.4   176.6         ohc   \n",
      "5      5         audi        sedan        99.8   177.3         ohc   \n",
      "6      6         audi        wagon       105.8   192.7         ohc   \n",
      "7      9          bmw        sedan       101.2   176.8         ohc   \n",
      "8     10          bmw        sedan       101.2   176.8         ohc   \n",
      "9     11          bmw        sedan       101.2   176.8         ohc   \n",
      "\n",
      "  num-of-cylinders  horsepower  average-mileage    price  \n",
      "0             four         111               21  13495.0  \n",
      "1             four         111               21  16500.0  \n",
      "2              six         154               19  16500.0  \n",
      "3             four         102               24  13950.0  \n",
      "4             five         115               18  17450.0  \n",
      "5             five         110               19  15250.0  \n",
      "6             five         110               19  18920.0  \n",
      "7             four         101               23  16430.0  \n",
      "8             four         101               23  16925.0  \n",
      "9              six         121               21  20970.0  \n"
     ]
    }
   ],
   "source": [
    "import pandas as pd\n",
    "\n",
    "# Reading in the data\n",
    "cars = pd.read_csv(\"cars_data.csv\")\n",
    "\n",
    "# Drop rows with missing values\n",
    "cars.dropna(inplace=True)\n",
    "\n",
    "# Verify that the rows with missing values have been removed\n",
    "print(cars.info())\n",
    "print(cars.head(10))\n"
   ]
  },
  {
   "cell_type": "markdown",
   "id": "614eeffe",
   "metadata": {},
   "source": [
    "### Calculate the mean of each numeric column. "
   ]
  },
  {
   "cell_type": "code",
   "execution_count": 36,
   "id": "49e06c7c",
   "metadata": {},
   "outputs": [
    {
     "name": "stdout",
     "output_type": "stream",
     "text": [
      "Mean values of each numeric column:\n",
      "index                 40.885246\n",
      "wheel-base            98.481967\n",
      "length               173.098361\n",
      "horsepower           107.852459\n",
      "average-mileage       25.803279\n",
      "price              15387.000000\n",
      "dtype: float64\n"
     ]
    }
   ],
   "source": [
    "import pandas as pd\n",
    "\n",
    "# Reading in the data\n",
    "cars = pd.read_csv(\"cars_data.csv\")\n",
    "\n",
    "# Select only the numeric columns\n",
    "numeric_columns = cars.select_dtypes(include=['number'])\n",
    "\n",
    "# Calculate the mean of each numeric column\n",
    "numeric_means = numeric_columns.mean()\n",
    "\n",
    "# Print the result\n",
    "print(\"Mean values of each numeric column:\")\n",
    "print(numeric_means)\n",
    "\n"
   ]
  },
  {
   "cell_type": "markdown",
   "id": "f4f79bfd",
   "metadata": {},
   "source": [
    "### Select the rows where the column \"company\" is equal to 'honda'. "
   ]
  },
  {
   "cell_type": "code",
   "execution_count": 37,
   "id": "b3e7d7b0",
   "metadata": {},
   "outputs": [
    {
     "name": "stdout",
     "output_type": "stream",
     "text": [
      "    index company body-style  wheel-base  length engine-type num-of-cylinders  \\\n",
      "18     27   honda      wagon        96.5   157.1         ohc             four   \n",
      "19     28   honda      sedan        96.5   175.4         ohc             four   \n",
      "20     29   honda      sedan        96.5   169.1         ohc             four   \n",
      "\n",
      "    horsepower  average-mileage    price  \n",
      "18          76               30   7295.0  \n",
      "19         101               24  12945.0  \n",
      "20         100               25  10345.0  \n"
     ]
    }
   ],
   "source": [
    "honda_cars = cars[cars['company'] == 'honda']\n",
    "print(honda_cars)"
   ]
  },
  {
   "cell_type": "markdown",
   "id": "0a3543eb",
   "metadata": {},
   "source": [
    "### Sort the data set by price in descending order. This should *not* be an inplace operation. "
   ]
  },
  {
   "cell_type": "code",
   "execution_count": 38,
   "id": "4568db68",
   "metadata": {},
   "outputs": [
    {
     "name": "stdout",
     "output_type": "stream",
     "text": [
      "    index        company   body-style  wheel-base  length engine-type  \\\n",
      "35     47  mercedes-benz      hardtop       112.0   199.2        ohcv   \n",
      "11     14            bmw        sedan       103.5   193.8         ohc   \n",
      "34     46  mercedes-benz        sedan       120.9   208.1        ohcv   \n",
      "46     62        porsche  convertible        89.5   168.9        ohcf   \n",
      "12     15            bmw        sedan       110.0   197.0         ohc   \n",
      "..    ...            ...          ...         ...     ...         ...   \n",
      "27     36          mazda    hatchback        93.1   159.1         ohc   \n",
      "13     16      chevrolet    hatchback        88.4   141.1           l   \n",
      "22     31          isuzu        sedan        94.5   155.9         ohc   \n",
      "23     32          isuzu        sedan        94.5   155.9         ohc   \n",
      "47     63        porsche    hatchback        98.4   175.7       dohcv   \n",
      "\n",
      "   num-of-cylinders  horsepower  average-mileage    price  \n",
      "35            eight         184               14  45400.0  \n",
      "11              six         182               16  41315.0  \n",
      "34            eight         184               14  40960.0  \n",
      "46              six         207               17  37028.0  \n",
      "12              six         182               15  36880.0  \n",
      "..              ...         ...              ...      ...  \n",
      "27             four          68               30   5195.0  \n",
      "13            three          48               47   5151.0  \n",
      "22             four          70               38      NaN  \n",
      "23             four          70               38      NaN  \n",
      "47            eight         288               17      NaN  \n",
      "\n",
      "[61 rows x 10 columns]\n"
     ]
    }
   ],
   "source": [
    "sorted_cars = cars.sort_values(by='price', ascending=False)\n",
    "print(sorted_cars)"
   ]
  },
  {
   "cell_type": "markdown",
   "id": "1527f255",
   "metadata": {},
   "source": [
    "### Select the rows where the column \"company\" is equal to any of the values (audi, bmw, porsche)."
   ]
  },
  {
   "cell_type": "code",
   "execution_count": 39,
   "id": "1f78e12e",
   "metadata": {},
   "outputs": [
    {
     "name": "stdout",
     "output_type": "stream",
     "text": [
      "    index  company   body-style  wheel-base  length engine-type  \\\n",
      "3       3     audi        sedan        99.8   176.6         ohc   \n",
      "4       4     audi        sedan        99.4   176.6         ohc   \n",
      "5       5     audi        sedan        99.8   177.3         ohc   \n",
      "6       6     audi        wagon       105.8   192.7         ohc   \n",
      "7       9      bmw        sedan       101.2   176.8         ohc   \n",
      "8      10      bmw        sedan       101.2   176.8         ohc   \n",
      "9      11      bmw        sedan       101.2   176.8         ohc   \n",
      "10     13      bmw        sedan       103.5   189.0         ohc   \n",
      "11     14      bmw        sedan       103.5   193.8         ohc   \n",
      "12     15      bmw        sedan       110.0   197.0         ohc   \n",
      "45     61  porsche      hardtop        89.5   168.9        ohcf   \n",
      "46     62  porsche  convertible        89.5   168.9        ohcf   \n",
      "47     63  porsche    hatchback        98.4   175.7       dohcv   \n",
      "\n",
      "   num-of-cylinders  horsepower  average-mileage    price  \n",
      "3              four         102               24  13950.0  \n",
      "4              five         115               18  17450.0  \n",
      "5              five         110               19  15250.0  \n",
      "6              five         110               19  18920.0  \n",
      "7              four         101               23  16430.0  \n",
      "8              four         101               23  16925.0  \n",
      "9               six         121               21  20970.0  \n",
      "10              six         182               16  30760.0  \n",
      "11              six         182               16  41315.0  \n",
      "12              six         182               15  36880.0  \n",
      "45              six         207               17  34028.0  \n",
      "46              six         207               17  37028.0  \n",
      "47            eight         288               17      NaN  \n"
     ]
    }
   ],
   "source": [
    "selected_companies = cars[cars['company'].isin(['audi', 'bmw', 'porsche'])]\n",
    "print(selected_companies)"
   ]
  },
  {
   "cell_type": "markdown",
   "id": "3ce133eb",
   "metadata": {},
   "source": [
    "### Find the number of cars (rows) for each company. "
   ]
  },
  {
   "cell_type": "code",
   "execution_count": 40,
   "id": "e9480725",
   "metadata": {},
   "outputs": [
    {
     "name": "stdout",
     "output_type": "stream",
     "text": [
      "company\n",
      "alfa-romero      3\n",
      "audi             4\n",
      "bmw              6\n",
      "chevrolet        3\n",
      "dodge            2\n",
      "honda            3\n",
      "isuzu            3\n",
      "jaguar           3\n",
      "mazda            5\n",
      "mercedes-benz    4\n",
      "mitsubishi       4\n",
      "nissan           5\n",
      "porsche          3\n",
      "toyota           7\n",
      "volkswagen       4\n",
      "volvo            2\n",
      "dtype: int64\n"
     ]
    }
   ],
   "source": [
    "car_counts = cars.groupby('company').size()\n",
    "print(car_counts)"
   ]
  },
  {
   "cell_type": "markdown",
   "id": "5beef62f",
   "metadata": {},
   "source": [
    "### Find the maximum price for each company. "
   ]
  },
  {
   "cell_type": "code",
   "execution_count": 41,
   "id": "94b0c15f",
   "metadata": {},
   "outputs": [
    {
     "name": "stdout",
     "output_type": "stream",
     "text": [
      "company\n",
      "alfa-romero      16500.0\n",
      "audi             18920.0\n",
      "bmw              41315.0\n",
      "chevrolet         6575.0\n",
      "dodge             6377.0\n",
      "honda            12945.0\n",
      "isuzu             6785.0\n",
      "jaguar           36000.0\n",
      "mazda            18344.0\n",
      "mercedes-benz    45400.0\n",
      "mitsubishi        8189.0\n",
      "nissan           13499.0\n",
      "porsche          37028.0\n",
      "toyota           15750.0\n",
      "volkswagen        9995.0\n",
      "volvo            13415.0\n",
      "Name: price, dtype: float64\n"
     ]
    }
   ],
   "source": [
    "max_price_per_company = cars.groupby('company')['price'].max()\n",
    "print(max_price_per_company)"
   ]
  }
 ],
 "metadata": {
  "kernelspec": {
   "display_name": "Python 3",
   "language": "python",
   "name": "python3"
  },
  "language_info": {
   "codemirror_mode": {
    "name": "ipython",
    "version": 3
   },
   "file_extension": ".py",
   "mimetype": "text/x-python",
   "name": "python",
   "nbconvert_exporter": "python",
   "pygments_lexer": "ipython3",
   "version": "3.12.6"
  }
 },
 "nbformat": 4,
 "nbformat_minor": 5
}
