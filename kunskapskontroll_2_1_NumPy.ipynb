{
 "cells": [
  {
   "cell_type": "markdown",
   "id": "dacf74e6",
   "metadata": {},
   "source": [
    "# NumPy"
   ]
  },
  {
   "cell_type": "markdown",
   "id": "01b2bf34",
   "metadata": {},
   "source": [
    "Read the links: https://numpy.org/doc/stable/user/quickstart.html  and https://numpy.org/doc/stable/user/basics.broadcasting.html  before solving the exercises. "
   ]
  },
  {
   "cell_type": "code",
   "execution_count": null,
   "id": "1f79e4a6",
   "metadata": {},
   "outputs": [],
   "source": [
    "import numpy as np"
   ]
  },
  {
   "cell_type": "markdown",
   "id": "7dae6889",
   "metadata": {},
   "source": [
    "### Print out the dimension (number of axes), shape, size and the datatype of the matrix A."
   ]
  },
  {
   "cell_type": "code",
   "execution_count": null,
   "id": "7b3678cd",
   "metadata": {},
   "outputs": [],
   "source": [
    "A = np.arange(1, 16).reshape(3,5)"
   ]
  },
  {
   "cell_type": "code",
   "execution_count": 1,
   "id": "31d39235",
   "metadata": {},
   "outputs": [
    {
     "name": "stdout",
     "output_type": "stream",
     "text": [
      "Dimension (number of axes): 2\n",
      "Shape: (3, 5)\n",
      "Size: 15\n",
      "Datatype: int64\n"
     ]
    }
   ],
   "source": [
    "import numpy as np\n",
    "\n",
    "A = np.arange(1, 16).reshape(3,5)\n",
    "\n",
    "print(\"Dimension (number of axes):\", A.ndim)\n",
    "print(\"Shape:\", A.shape)\n",
    "print(\"Size:\", A.size)\n",
    "print(\"Datatype:\", A.dtype)"
   ]
  },
  {
   "cell_type": "markdown",
   "id": "e56d2a96",
   "metadata": {},
   "source": [
    "### Do the following computations on the matrices B and C: \n",
    "* Elementwise subtraction. \n",
    "* Elementwise multiplication. \n",
    "* Matrix multiplication (by default you should use the @ operator)."
   ]
  },
  {
   "cell_type": "code",
   "execution_count": null,
   "id": "a7053fbb",
   "metadata": {},
   "outputs": [],
   "source": [
    "B = np.arange(1, 10).reshape(3, 3)\n",
    "C = np.ones((3, 3))*2\n",
    "\n",
    "print(B)\n",
    "print()\n",
    "print(C)"
   ]
  },
  {
   "cell_type": "code",
   "execution_count": 3,
   "id": "3cd794ae",
   "metadata": {},
   "outputs": [
    {
     "name": "stdout",
     "output_type": "stream",
     "text": [
      "Matrix B:\n",
      "[[1 2 3]\n",
      " [4 5 6]\n",
      " [7 8 9]]\n",
      "\n",
      "Matrix C:\n",
      "[[2. 2. 2.]\n",
      " [2. 2. 2.]\n",
      " [2. 2. 2.]]\n",
      "\n",
      "Elementwise subtraction (B - C):\n",
      "[[-1.  0.  1.]\n",
      " [ 2.  3.  4.]\n",
      " [ 5.  6.  7.]]\n",
      "\n",
      "Elementwise multiplication (B * C):\n",
      "[[ 2.  4.  6.]\n",
      " [ 8. 10. 12.]\n",
      " [14. 16. 18.]]\n",
      "\n",
      "Matrix multiplication (B @ C):\n",
      "[[12. 12. 12.]\n",
      " [30. 30. 30.]\n",
      " [48. 48. 48.]]\n"
     ]
    }
   ],
   "source": [
    "import numpy as np\n",
    "\n",
    "B = np.arange(1, 10).reshape(3, 3)\n",
    "C = np.ones((3, 3)) * 2\n",
    "\n",
    "print(\"Matrix B:\")\n",
    "print(B)\n",
    "print()\n",
    "print(\"Matrix C:\")\n",
    "print(C)\n",
    "print()\n",
    "\n",
    "# Elementwise subtraction\n",
    "elementwise_subtraction = B - C\n",
    "print(\"Elementwise subtraction (B - C):\")\n",
    "print(elementwise_subtraction)\n",
    "print()\n",
    "\n",
    "# Elementwise multiplication\n",
    "elementwise_multiplication = B * C\n",
    "print(\"Elementwise multiplication (B * C):\")\n",
    "print(elementwise_multiplication)\n",
    "print()\n",
    "\n",
    "# Matrix multiplication\n",
    "matrix_multiplication = B @ C\n",
    "print(\"Matrix multiplication (B @ C):\")\n",
    "print(matrix_multiplication)"
   ]
  },
  {
   "cell_type": "markdown",
   "id": "96030d53",
   "metadata": {},
   "source": [
    "### Do the following calculations on the matrix:\n",
    "* Exponentiate each number elementwise (use the np.exp function).\n",
    "\n",
    "* Calculate the minimum value in the whole matrix. \n",
    "* Calculcate the minimum value in each row. \n",
    "* Calculcate the minimum value in each column. \n",
    "\n",
    "\n",
    "* Find the index value for the minimum value in the whole matrix (hint: use np.argmin).\n",
    "* Find the index value for the minimum value in each row (hint: use np.argmin).\n",
    "\n",
    "\n",
    "* Calculate the sum for all elements.\n",
    "* Calculate the mean for each column. \n",
    "* Calculate the median for each column. "
   ]
  },
  {
   "cell_type": "code",
   "execution_count": null,
   "id": "f8a9166b",
   "metadata": {},
   "outputs": [],
   "source": [
    "B = np.arange(1, 10).reshape(3, 3)\n",
    "print(B)"
   ]
  },
  {
   "cell_type": "code",
   "execution_count": 4,
   "id": "f03f24f7",
   "metadata": {},
   "outputs": [
    {
     "name": "stdout",
     "output_type": "stream",
     "text": [
      "Matrix B:\n",
      "[[1 2 3]\n",
      " [4 5 6]\n",
      " [7 8 9]]\n",
      "\n",
      "Exponentiated B (elementwise):\n",
      "[[2.71828183e+00 7.38905610e+00 2.00855369e+01]\n",
      " [5.45981500e+01 1.48413159e+02 4.03428793e+02]\n",
      " [1.09663316e+03 2.98095799e+03 8.10308393e+03]]\n",
      "\n",
      "Minimum value in the whole matrix B: 1\n",
      "\n",
      "Minimum value in each row: [1 4 7]\n",
      "\n",
      "Minimum value in each column: [1 2 3]\n",
      "\n",
      "Index of the minimum value in the whole matrix: 0\n",
      "\n",
      "Index of the minimum value in each row: [0 0 0]\n",
      "\n",
      "Sum of all elements: 45\n",
      "\n",
      "Mean for each column: [4. 5. 6.]\n",
      "\n",
      "Median for each column: [4. 5. 6.]\n"
     ]
    }
   ],
   "source": [
    "import numpy as np\n",
    "\n",
    "B = np.arange(1, 10).reshape(3, 3)\n",
    "print(\"Matrix B:\")\n",
    "print(B)\n",
    "print()\n",
    "\n",
    "# Exponentiate each number elementwise\n",
    "exp_B = np.exp(B)\n",
    "print(\"Exponentiated B (elementwise):\")\n",
    "print(exp_B)\n",
    "print()\n",
    "\n",
    "# Calculate the minimum value in the whole matrix\n",
    "min_value = np.min(B)\n",
    "print(\"Minimum value in the whole matrix B:\", min_value)\n",
    "print()\n",
    "\n",
    "# Calculate the minimum value in each row\n",
    "min_value_row = np.min(B, axis=1)\n",
    "print(\"Minimum value in each row:\", min_value_row)\n",
    "print()\n",
    "\n",
    "# Calculate the minimum value in each column\n",
    "min_value_col = np.min(B, axis=0)\n",
    "print(\"Minimum value in each column:\", min_value_col)\n",
    "print()\n",
    "\n",
    "# Find the index value for the minimum value in the whole matrix\n",
    "min_index = np.argmin(B)\n",
    "print(\"Index of the minimum value in the whole matrix:\", min_index)\n",
    "print()\n",
    "\n",
    "# Find the index value for the minimum value in each row\n",
    "min_index_row = np.argmin(B, axis=1)\n",
    "print(\"Index of the minimum value in each row:\", min_index_row)\n",
    "print()\n",
    "\n",
    "# Calculate the sum for all elements\n",
    "sum_B = np.sum(B)\n",
    "print(\"Sum of all elements:\", sum_B)\n",
    "print()\n",
    "\n",
    "# Calculate the mean for each column\n",
    "mean_col = np.mean(B, axis=0)\n",
    "print(\"Mean for each column:\", mean_col)\n",
    "print()\n",
    "\n",
    "# Calculate the median for each column\n",
    "median_col = np.median(B, axis=0)\n",
    "print(\"Median for each column:\", median_col)"
   ]
  },
  {
   "cell_type": "markdown",
   "id": "541eb7ba",
   "metadata": {},
   "source": [
    "### What does it mean when you provide fewer indices than axes when slicing? See example below."
   ]
  },
  {
   "cell_type": "code",
   "execution_count": null,
   "id": "9c8abf56",
   "metadata": {},
   "outputs": [],
   "source": [
    "print(A)"
   ]
  },
  {
   "cell_type": "code",
   "execution_count": null,
   "id": "69415f7b",
   "metadata": {},
   "outputs": [],
   "source": [
    "A[1]"
   ]
  },
  {
   "cell_type": "markdown",
   "id": "6c53541b",
   "metadata": {},
   "source": [
    "**Answer:**"
   ]
  },
  {
   "cell_type": "code",
   "execution_count": 6,
   "id": "de01e120",
   "metadata": {},
   "outputs": [
    {
     "name": "stdout",
     "output_type": "stream",
     "text": [
      "Matrix A:\n",
      "[[ 1  2  3  4  5]\n",
      " [ 6  7  8  9 10]\n",
      " [11 12 13 14 15]]\n",
      "\n",
      "A[1]:\n",
      "[ 6  7  8  9 10]\n"
     ]
    }
   ],
   "source": [
    "import numpy as np\n",
    "\n",
    "A = np.arange(1, 16).reshape(3, 5)\n",
    "print(\"Matrix A:\")\n",
    "print(A)\n",
    "print()\n",
    "\n",
    "sub_array = A[1]\n",
    "print(\"A[1]:\")\n",
    "print(sub_array)\n",
    "\n",
    "# In this example, A is a 2D array with shape (3, 5). \n",
    "# When you use A[1], you are selecting the entire second row of the matrix A. \n",
    "# The result is a 1D array containing all the elements of the second row."
   ]
  },
  {
   "cell_type": "markdown",
   "id": "6652d0c9",
   "metadata": {},
   "source": [
    "### Iterating over multidimensional arrays is done with respect to the first axis, so in the example below we iterate trough the rows. If you would like to iterate through the array *elementwise*, how would you do that?"
   ]
  },
  {
   "cell_type": "code",
   "execution_count": null,
   "id": "9459864f",
   "metadata": {},
   "outputs": [],
   "source": [
    "A"
   ]
  },
  {
   "cell_type": "code",
   "execution_count": null,
   "id": "a671bb5a",
   "metadata": {},
   "outputs": [],
   "source": [
    "for i in A:\n",
    "    print(i)"
   ]
  },
  {
   "cell_type": "code",
   "execution_count": 7,
   "id": "f4e443a0",
   "metadata": {},
   "outputs": [
    {
     "name": "stdout",
     "output_type": "stream",
     "text": [
      "Matrix A:\n",
      "[[ 1  2  3  4  5]\n",
      " [ 6  7  8  9 10]\n",
      " [11 12 13 14 15]]\n",
      "\n",
      "Elementwise iteration\n",
      "1\n",
      "2\n",
      "3\n",
      "4\n",
      "5\n",
      "6\n",
      "7\n",
      "8\n",
      "9\n",
      "10\n",
      "11\n",
      "12\n",
      "13\n",
      "14\n",
      "15\n"
     ]
    }
   ],
   "source": [
    "import numpy as np\n",
    "\n",
    "A = np.arange(1, 16).reshape(3, 5)\n",
    "print(\"Matrix A:\")\n",
    "print(A)\n",
    "print()\n",
    "\n",
    "print(\"Elementwise iteration\")\n",
    "for element in np.nditer(A):\n",
    "    print(element)"
   ]
  },
  {
   "cell_type": "markdown",
   "id": "608a2583",
   "metadata": {},
   "source": [
    "### Explain what the code below does. More specifically, b has three axes - what does this mean? "
   ]
  },
  {
   "cell_type": "code",
   "execution_count": null,
   "id": "f8f9b26f",
   "metadata": {},
   "outputs": [],
   "source": [
    "a = np.arange(30)\n",
    "b = a.reshape((2, 3, -1))\n",
    "print(a)\n",
    "print()\n",
    "\n",
    "print(b)"
   ]
  },
  {
   "cell_type": "code",
   "execution_count": 8,
   "id": "863a45df",
   "metadata": {},
   "outputs": [
    {
     "name": "stdout",
     "output_type": "stream",
     "text": [
      "Array a:\n",
      "[ 0  1  2  3  4  5  6  7  8  9 10 11 12 13 14 15 16 17 18 19 20 21 22 23\n",
      " 24 25 26 27 28 29]\n",
      "\n",
      "Array b:\n",
      "[[[ 0  1  2  3  4]\n",
      "  [ 5  6  7  8  9]\n",
      "  [10 11 12 13 14]]\n",
      "\n",
      " [[15 16 17 18 19]\n",
      "  [20 21 22 23 24]\n",
      "  [25 26 27 28 29]]]\n"
     ]
    }
   ],
   "source": [
    "import numpy as np\n",
    "\n",
    "a = np.arange(30)\n",
    "b = a.reshape((2, 3, -1))\n",
    "print(\"Array a:\")\n",
    "print(a)\n",
    "print()\n",
    "\n",
    "print(\"Array b:\")\n",
    "print(b)"
   ]
  },
  {
   "cell_type": "code",
   "execution_count": null,
   "id": "eed38bbb-dd20-4d23-837f-679aa3d3a067",
   "metadata": {},
   "outputs": [],
   "source": [
    "# 1. We create a 1D array a with 30 elements using np.arange(30).\n",
    "#     a = np.arange(30)\n",
    "# 2. We reshape the 1D array a into a 3D array b with shape (2, 3, -1).\n",
    "#     b = a.reshape((2, 3, -1))\n",
    "\n",
    "# 3. The -1 in the reshape function is a placeholder that tells NumPy to automatically calculate,\n",
    "#     the size of the third dimension based on the total number of elements in the array. \n",
    "#     In this case, since a has 30 elements and we are reshaping it into a (2, 3, -1) array, \n",
    "#     the third dimension will be calculated as 5 (30 / (2*3)).\n",
    "\n",
    "#         print(a)\n",
    "#         print()\n",
    "#         print(b)"
   ]
  },
  {
   "cell_type": "markdown",
   "id": "421c9607-819a-401d-949a-97424436fe29",
   "metadata": {},
   "source": [
    "# For the exercises below, read the document *\"matematik_yh_antonio_vektorer_matriser_utdrag\"*\n",
    "# Solutions to the exercises and recorded videos can be found here: https://github.com/AntonioPrgomet/matematik_foer_yh\n",
    "\n",
    "# If you find the exercises below very hard, do not worry. Try your best, that will be enough. "
   ]
  },
  {
   "cell_type": "markdown",
   "id": "ab5933d5",
   "metadata": {},
   "source": [
    "### Broadcasting\n",
    "**Read the following link about broadcasting: https://numpy.org/doc/stable/user/basics.broadcasting.html#basics-broadcasting**"
   ]
  },
  {
   "cell_type": "markdown",
   "id": "039805ba",
   "metadata": {},
   "source": [
    "# Remark on Broadcasting when doing Linear Algebra calculations in Python. "
   ]
  },
  {
   "cell_type": "markdown",
   "id": "c4bcc147",
   "metadata": {},
   "source": [
    "### From the mathematical rules of matrix addition, the operation below (m1 + m2) does not make sense. The reason is that matrix addition requires two matrices of the same size. In Python however, it works due to broadcasting rules in NumPy. So you must be careful when doing Linear Algebra calculations in Python since they do not follow the \"mathematical rules\". This can however easily be handled by doing some simple programming, for example validating that two matrices have the same shape is easy if you for instance want to add two matrices. "
   ]
  },
  {
   "cell_type": "code",
   "execution_count": null,
   "id": "1fd46778",
   "metadata": {},
   "outputs": [],
   "source": [
    "m1 = np.array([[1, 2], [3, 4]])\n",
    "m2 = np.array([1, 1])\n",
    "print(m1 + m2)"
   ]
  },
  {
   "cell_type": "markdown",
   "id": "047d6576",
   "metadata": {},
   "source": [
    "### The example below would also not be allowed if following the \"mathematical rules\" in Linear Algebra. But it works due to broadcasting in NumPy. "
   ]
  },
  {
   "cell_type": "code",
   "execution_count": null,
   "id": "5e6ef2e4",
   "metadata": {},
   "outputs": [],
   "source": [
    "v1 = np.array([1, 2, 3])\n",
    "print(v1 + 1)"
   ]
  },
  {
   "cell_type": "code",
   "execution_count": null,
   "id": "e2cbae26",
   "metadata": {},
   "outputs": [],
   "source": [
    "A = np.arange(1, 5).reshape(2,2)\n",
    "print(A)\n",
    "\n",
    "b = np.array([2, 2])\n",
    "print(b)"
   ]
  },
  {
   "cell_type": "markdown",
   "id": "722fd5cd",
   "metadata": {},
   "source": [
    "# Vector- and matrix algebra Exercises"
   ]
  },
  {
   "cell_type": "markdown",
   "id": "b63a3081-d976-4d9f-bfd0-a63917e79f7d",
   "metadata": {},
   "source": [
    "**Now you are going to create a function that can be reused every time you add or multiply matrices. The function is created so that we do the addition and multiplication according to the rules of vector- and matrix algebra.**\n",
    "\n",
    "**Create a function \"add_mult_matrices\" that takes two matrices as input arguments (validate that the input are of the type numpy.ndarray by using the isinstance function), a third argument that is either 'add' or 'multiply' that specifies if you want to add or multiply the matrices (validate that the third argument is either 'add' or 'multiply'). When doing matrix addition, validate that the matrices have the same size. When doing matrix multiplication, validate that the sizes conform (i.e. number of columns in the first matrix is equal to the number of rows in the second matrix).**"
   ]
  },
  {
   "cell_type": "code",
   "execution_count": 9,
   "id": "3506f977-ac0a-473f-85bc-eec9f35dc498",
   "metadata": {},
   "outputs": [
    {
     "name": "stdout",
     "output_type": "stream",
     "text": [
      "Addition result:\n",
      "[[ 6  8]\n",
      " [10 12]]\n",
      "\n",
      "Multiplication result:\n",
      "[[19 22]\n",
      " [43 50]]\n"
     ]
    }
   ],
   "source": [
    "import numpy as np\n",
    "\n",
    "def add_mult_matrices(matrix1, matrix2, operation):\n",
    "    # Validate that the inputs are of type numpy.ndarray\n",
    "    if not isinstance(matrix1, np.ndarray) or not isinstance(matrix2, np.ndarray):\n",
    "        raise TypeError(\"Both inputs must be of type numpy.ndarray\")\n",
    "\n",
    "# Validate that the operation is either 'add' or 'multiply'\n",
    "    if operation not in ['add', 'multiply']:\n",
    "        raise ValueError(\"Operation must be either 'add' or 'multiply'\")\n",
    "\n",
    "    if operation == 'add':\n",
    "        # Validate that the matrices have the same size for addition\n",
    "        if matrix1.shape != matrix2.shape:\n",
    "            raise ValueError(\"Matrices must have the same shape for addition\")\n",
    "        return matrix1 + matrix2\n",
    "\n",
    "    elif operation == 'multiply':\n",
    "        # Validate that the sizes conform for matrix multiplication\n",
    "        if matrix1.shape[1] != matrix2.shape[0]:\n",
    "            raise ValueError(\"Number of columns in the first matrix must be equal to the number of rows in the secons matrix for multiplication\")\n",
    "        return matrix1 @ matrix2\n",
    "\n",
    "# Example usage\n",
    "matrix1 = np.array([[1, 2], [3, 4]])\n",
    "matrix2 = np.array([[5, 6], [7, 8]])\n",
    "\n",
    "# Addition\n",
    "result_add = add_mult_matrices(matrix1, matrix2, 'add')\n",
    "print(\"Addition result:\")\n",
    "print(result_add)\n",
    "print()\n",
    "\n",
    "# Multiplication\n",
    "result_mult = add_mult_matrices(matrix1, matrix2, 'multiply')\n",
    "print(\"Multiplication result:\")\n",
    "print(result_mult)"
   ]
  },
  {
   "cell_type": "markdown",
   "id": "8dad82d0-2359-4dff-8f5b-a57d3e34103c",
   "metadata": {},
   "source": [
    "### Solve all the exercises in chapter 10.1 in the book \"Matematik för yrkeshögskolan\" by using Python. "
   ]
  },
  {
   "cell_type": "code",
   "execution_count": 10,
   "id": "274ffb83",
   "metadata": {},
   "outputs": [
    {
     "name": "stdout",
     "output_type": "stream",
     "text": [
      "Dimension of vector x: (2,)\n",
      "5x: [20 15]\n",
      "3x: [12  9]\n",
      "5x + 3x: [32 24]\n",
      "8x: [32 24]\n",
      "4x - x: [12  9]\n",
      "x transpose:\n",
      " [[4]\n",
      " [3]]\n",
      "Dimension of x transpose: (2, 1)\n",
      "Is x + x transpose defined? False\n",
      "Norm of x: 5.0\n"
     ]
    }
   ],
   "source": [
    "import numpy as np\n",
    "\n",
    "# Define the vector x\n",
    "x = np.array([4, 3])\n",
    "\n",
    "# (a) Dimension of vector x\n",
    "dimension_x = x.shape\n",
    "print(\"Dimension of vector x:\", dimension_x)\n",
    "\n",
    "# (b) Calculate 5x\n",
    "five_x = 5 * x\n",
    "print(\"5x:\", five_x)\n",
    "\n",
    "# (c) Calculate 3x\n",
    "three_x = 3 * x\n",
    "print(\"3x:\", three_x)\n",
    "\n",
    "# (d) Calculate 5x + 3x\n",
    "five_x_plus_three_x = 5 * x + 3 * x\n",
    "print(\"5x + 3x:\", five_x_plus_three_x)\n",
    "\n",
    "# (e) Calculate 8x\n",
    "eight_x = 8 * x\n",
    "print(\"8x:\", eight_x)\n",
    "\n",
    "# (f) Calculate 4x - x\n",
    "four_x_minus_x = 4 * x - x\n",
    "print(\"4x - x:\", four_x_minus_x)\n",
    "\n",
    "# (g) Calculate x transpose and its new dimension\n",
    "x_transpose = x.reshape(-1, 1)\n",
    "dimension_x_transpose = x_transpose.shape\n",
    "print(\"x transpose:\\n\", x_transpose)\n",
    "print(\"Dimension of x transpose:\", dimension_x_transpose)\n",
    "\n",
    "# (h) Is x + x transpose defined?\n",
    "# x is a 1D array and x transpose is a 2D array, so x + x transpose is not defined\n",
    "is_defined = False\n",
    "print(\"Is x + x transpose defined?\", is_defined)\n",
    "\n",
    "# (i) Calculate the norm of x\n",
    "norm_x = np.linalg.norm(x)\n",
    "print(\"Norm of x:\", norm_x)"
   ]
  },
  {
   "cell_type": "code",
   "execution_count": 11,
   "id": "4ad3c456",
   "metadata": {},
   "outputs": [
    {
     "name": "stdout",
     "output_type": "stream",
     "text": [
      "Dimension of vector v: (4,)\n",
      "2v: [ 6 14  0 22]\n",
      "5v + 2v: [21 49  0 77]\n",
      "4v - 2v: [ 6 14  0 22]\n",
      "v transpose:\n",
      " [[ 3]\n",
      " [ 7]\n",
      " [ 0]\n",
      " [11]]\n",
      "Dimension of v transpose: (4, 1)\n",
      "Norm of v: 13.379088160259652\n"
     ]
    }
   ],
   "source": [
    "import numpy as np\n",
    "\n",
    "# Define the vector v\n",
    "v = np.array([3, 7, 0, 11])\n",
    "\n",
    "# (a) Dimension of vector v\n",
    "dimension_v = v.shape\n",
    "print(\"Dimension of vector v:\", dimension_v)\n",
    "\n",
    "# (b) Calculate 2v\n",
    "two_v = 2 * v\n",
    "print(\"2v:\", two_v)\n",
    "\n",
    "# (c) Calculate 5v + 2v\n",
    "five_v_plus_two_v = 5 * v + 2 * v\n",
    "print(\"5v + 2v:\", five_v_plus_two_v)\n",
    "\n",
    "# (d) Calculate 4v - 2v\n",
    "four_v_minus_two_v = 4 * v - 2 * v\n",
    "print(\"4v - 2v:\", four_v_minus_two_v)\n",
    "\n",
    "# (e) Calculate v transpose and its new dimension\n",
    "v_transpose = v.reshape(-1, 1)\n",
    "dimension_v_transpose = v_transpose.shape\n",
    "print(\"v transpose:\\n\", v_transpose)\n",
    "print(\"Dimension of v transpose:\", dimension_v_transpose)\n",
    "\n",
    "# (f) Calculate the norm of v\n",
    "norm_v = np.linalg.norm(v)\n",
    "print(\"Norm of v:\", norm_v)"
   ]
  },
  {
   "cell_type": "code",
   "execution_count": 12,
   "id": "a9d061e2",
   "metadata": {},
   "outputs": [
    {
     "name": "stdout",
     "output_type": "stream",
     "text": [
      "Norm of v1: 7.14142842854285\n",
      "Norm of v1 - v2: 4.47213595499958\n"
     ]
    }
   ],
   "source": [
    "import numpy as np\n",
    "\n",
    "# Define the vectors v1 and v2\n",
    "v1 = np.array([4, 3, 1, 5])\n",
    "v2 = np.array([2, 3, 1, 1])\n",
    "\n",
    "# (a) Calculate the norm of v1\n",
    "norm_v1 = np.linalg.norm(v1)\n",
    "print(\"Norm of v1:\", norm_v1)\n",
    "\n",
    "# (b) Calculate the norm of v1 - v2\n",
    "norm_v1_minus_v2 = np.linalg.norm(v1 - v2)\n",
    "print(\"Norm of v1 - v2:\", norm_v1_minus_v2)"
   ]
  },
  {
   "cell_type": "code",
   "execution_count": null,
   "id": "89df88af-3668-4d98-a0a4-e6d92eea0f89",
   "metadata": {},
   "outputs": [],
   "source": []
  },
  {
   "cell_type": "markdown",
   "id": "75c98984-1f88-4df1-b850-d2466de444a5",
   "metadata": {},
   "source": [
    "### Solve all the exercises, except 10.2.4, in chapter 10.2 in the book \"Matematik för yrkeshögskolan\" by using Python. "
   ]
  },
  {
   "cell_type": "code",
   "execution_count": null,
   "id": "1e81e4e6",
   "metadata": {
    "vscode": {
     "languageId": "julia"
    }
   },
   "outputs": [],
   "source": [
    "import numpy as np\n",
    "\n",
    "# Define the coefficient matrix A\n",
    "A = np.array([\n",
    "    [3, 2, 4],\n",
    "    [2, 3, 8],\n",
    "    [4, 1, 3],\n",
    "    [7, 1, 5]\n",
    "])\n",
    "\n",
    "# Define the constants vector b\n",
    "b = np.array([7, 4, 11, 9])\n",
    "\n",
    "# Define the solution vector x (assuming we have already solved for x)\n",
    "# For demonstration purposes, let's assume x is the solution we found\n",
    "x = np.linalg.solve(A, b)\n",
    "\n",
    "# Verify the solution by performing the matrix multiplication Ax\n",
    "Ax = A @ x\n",
    "\n",
    "print(\"Matrix A:\")\n",
    "print(A)\n",
    "print()\n",
    "print(\"Vector b:\")\n",
    "print(b)\n",
    "print()\n",
    "print(\"Solution vector x:\")\n",
    "print(x)\n",
    "print()\n",
    "print(\"Matrix multiplication Ax:\")\n",
    "print(Ax)\n",
    "print()\n",
    "print(\"Verification (Ax == b):\")\n",
    "print(np.allclose(Ax, b))"
   ]
  },
  {
   "cell_type": "code",
   "execution_count": null,
   "id": "65371610-16e1-48b2-b7fb-65e49002608a",
   "metadata": {},
   "outputs": [],
   "source": []
  },
  {
   "cell_type": "markdown",
   "id": "6a4a524f",
   "metadata": {},
   "source": [
    "### Copies and Views\n",
    "Read the following link: https://numpy.org/doc/stable/user/basics.copies.html"
   ]
  },
  {
   "cell_type": "markdown",
   "id": "6cbbeaf7",
   "metadata": {},
   "source": [
    "**Basic indexing creates a view, How can you check if v1 and v2 is a view or copy? If you change the last element in v2 to 123, will the last element in v1 be changed? Why?**"
   ]
  },
  {
   "cell_type": "code",
   "execution_count": null,
   "id": "5b9ef4df",
   "metadata": {},
   "outputs": [],
   "source": [
    "v1 = np.arange(4)\n",
    "v2 = v1[-2:]\n",
    "print(v1)\n",
    "print(v2)"
   ]
  },
  {
   "cell_type": "code",
   "execution_count": null,
   "id": "d2440489",
   "metadata": {},
   "outputs": [],
   "source": [
    "# The base attribute of a view returns the original array while it returns None for a copy.\n",
    "print(v1.base)\n",
    "print(v2.base)"
   ]
  },
  {
   "cell_type": "code",
   "execution_count": 13,
   "id": "c8752807",
   "metadata": {},
   "outputs": [
    {
     "name": "stdout",
     "output_type": "stream",
     "text": [
      "[4 3 1 5]\n",
      "[  2   3   1 123]\n"
     ]
    }
   ],
   "source": [
    "# The last element in v1 will be changed aswell since v2 is a view, meaning they share the same data buffer.\n",
    "v2[-1] = 123\n",
    "print(v1)\n",
    "print(v2)"
   ]
  },
  {
   "cell_type": "code",
   "execution_count": null,
   "id": "3dd68221",
   "metadata": {},
   "outputs": [],
   "source": [
    "# The .base attribute of an array points to the original array if the array is a view. Otherwise, .base is None for a copy.\n",
    "\n",
    "# # Output:\n",
    "# v1.base is None because v1 is the original array.\n",
    "# v2.base is not None and will point to v1, confirming that v2 is a view of v1.\n",
    "\n",
    "# v2[-1] refers to the last element of v2, which corresponds to the last element of the slice \n",
    "# v1[-1].\n",
    "# Modifying this element in v2 also modifies the corresponding element in v1 because they share the same data buffer.\n",
    "\n",
    "# # Output:\n",
    "#     # After modification:\n",
    "#         v1: [0, 1, 2, 123]\n",
    "#         v2: [2, 123]"
   ]
  }
 ],
 "metadata": {
  "kernelspec": {
   "display_name": "Python 3",
   "language": "python",
   "name": "python3"
  },
  "language_info": {
   "codemirror_mode": {
    "name": "ipython",
    "version": 3
   },
   "file_extension": ".py",
   "mimetype": "text/x-python",
   "name": "python",
   "nbconvert_exporter": "python",
   "pygments_lexer": "ipython3",
   "version": "3.12.6"
  }
 },
 "nbformat": 4,
 "nbformat_minor": 5
}
